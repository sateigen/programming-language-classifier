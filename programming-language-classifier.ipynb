{
 "cells": [
  {
   "cell_type": "code",
   "execution_count": 1,
   "metadata": {
    "collapsed": true
   },
   "outputs": [],
   "source": [
    "import glob\n",
    "from sklearn.feature_extraction.text import CountVectorizer\n",
    "from sklearn.feature_extraction.text import TfidfTransformer\n",
    "from sklearn.naive_bayes import MultinomialNB\n",
    "from sklearn.pipeline import Pipeline\n",
    "from sklearn.metrics import accuracy_score"
   ]
  },
  {
   "cell_type": "markdown",
   "metadata": {},
   "source": [
    "# Polyglot\n",
    "This project was designed to deepen our understanding of feature extraction, classification, and building a robust classifier. Specifically, the classifier that this project uses can take snippets of code and guesses the programming language of the code."
   ]
  },
  {
   "cell_type": "code",
   "execution_count": 7,
   "metadata": {
    "collapsed": true
   },
   "outputs": [],
   "source": [
    "file_extensions = {'gcc': 'C', 'c': 'C', 'csharp': 'C#', 'sbcl': 'Common Lisp',\n",
    "                   'clojer': 'Clojure', 'hs': 'Haskell', 'java': 'Java',\n",
    "                   'javascript': 'JavaScript', 'ocaml': 'OCaml', 'perl':\n",
    "                   'Perl', 'hack': 'PHP', 'php': 'PHP', 'python3': 'Python',\n",
    "                   'jruby': 'Ruby', 'yarv': 'Ruby', 'scala': 'Scala',\n",
    "                   'racket': 'Scheme'}"
   ]
  },
  {
   "cell_type": "code",
   "execution_count": 8,
   "metadata": {
    "collapsed": false
   },
   "outputs": [],
   "source": [
    "def read_program_files(file_locations):\n",
    "    files = glob.glob(file_locations, recursive=True)\n",
    "    texts = []\n",
    "    for file in files:\n",
    "        with open(file, encoding='latin_1') as f:\n",
    "            texts.append(f.read())\n",
    "    return texts"
   ]
  },
  {
   "cell_type": "code",
   "execution_count": 16,
   "metadata": {
    "collapsed": false
   },
   "outputs": [],
   "source": [
    "X_train = []\n",
    "y_train = []\n",
    "for key, value in file_extensions.items():\n",
    "    X = read_program_files('benchmarksgame/bench/**/*.{}'.format(key))\n",
    "    X_train += X\n",
    "    y_train += (len(X) * [value])"
   ]
  },
  {
   "cell_type": "code",
   "execution_count": 17,
   "metadata": {
    "collapsed": false
   },
   "outputs": [
    {
     "name": "stdout",
     "output_type": "stream",
     "text": [
      "515\n",
      "515\n"
     ]
    }
   ],
   "source": [
    "print(len(X_train))\n",
    "print(len(y_train))"
   ]
  },
  {
   "cell_type": "code",
   "execution_count": null,
   "metadata": {
    "collapsed": false
   },
   "outputs": [],
   "source": []
  },
  {
   "cell_type": "code",
   "execution_count": null,
   "metadata": {
    "collapsed": true
   },
   "outputs": [],
   "source": []
  }
 ],
 "metadata": {
  "kernelspec": {
   "display_name": "Python 3",
   "language": "python",
   "name": "python3"
  },
  "language_info": {
   "codemirror_mode": {
    "name": "ipython",
    "version": 3
   },
   "file_extension": ".py",
   "mimetype": "text/x-python",
   "name": "python",
   "nbconvert_exporter": "python",
   "pygments_lexer": "ipython3",
   "version": "3.5.1"
  }
 },
 "nbformat": 4,
 "nbformat_minor": 0
}
